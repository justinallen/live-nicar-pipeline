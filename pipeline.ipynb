{
 "cells": [
  {
   "cell_type": "markdown",
   "id": "90ef4fd7-61d5-499c-9901-d40977e05b7d",
   "metadata": {},
   "source": [
    "# imports"
   ]
  },
  {
   "cell_type": "code",
   "execution_count": 63,
   "id": "9fadc3d0",
   "metadata": {},
   "outputs": [],
   "source": [
    "import requests\n",
    "import pandas as pd"
   ]
  },
  {
   "cell_type": "markdown",
   "id": "2a884e31",
   "metadata": {},
   "source": [
    "# acquire data"
   ]
  },
  {
   "cell_type": "code",
   "execution_count": 64,
   "id": "ade74e75",
   "metadata": {},
   "outputs": [],
   "source": [
    "api_url = \"https://opendata.maryland.gov/api/id/crti-ybyp.json?$select=*&$order=`:id`+ASC&$limit=3000&$offset=0\"\n",
    "response = requests.get(api_url)\n",
    "data = response.json()"
   ]
  },
  {
   "cell_type": "code",
   "execution_count": 65,
   "id": "ed9283e2-9c3e-435c-b1e4-d695db0616b1",
   "metadata": {},
   "outputs": [
    {
     "data": {
      "text/plain": [
       "{'sno': '1',\n",
       " 'complaint': '232264',\n",
       " 'complaint_description': 'concern of loud noise in the Cheverly area',\n",
       " 'complaint_type': 'Other',\n",
       " 'recieved_date': '2024-03-06',\n",
       " 'incident_date': '2024-03-06',\n",
       " 'county': \"Prince George's\",\n",
       " 'incident_closed_date': '2024-03-08',\n",
       " 'incident_status_desc': 'Incident Closed-Managed'}"
      ]
     },
     "execution_count": 65,
     "metadata": {},
     "output_type": "execute_result"
    }
   ],
   "source": [
    "data[0]"
   ]
  },
  {
   "cell_type": "code",
   "execution_count": 66,
   "id": "cd9ea127-e47d-42ed-a4d8-3dff3f57d67f",
   "metadata": {},
   "outputs": [
    {
     "data": {
      "text/plain": [
       "list"
      ]
     },
     "execution_count": 66,
     "metadata": {},
     "output_type": "execute_result"
    }
   ],
   "source": [
    "type(data)"
   ]
  },
  {
   "cell_type": "code",
   "execution_count": 67,
   "id": "0a7e34d2-b705-4b37-9830-704e772a704d",
   "metadata": {},
   "outputs": [],
   "source": [
    "df = pd.DataFrame(data)"
   ]
  },
  {
   "cell_type": "markdown",
   "id": "d8cfe4bd",
   "metadata": {},
   "source": [
    "# clean data"
   ]
  },
  {
   "cell_type": "code",
   "execution_count": 68,
   "id": "472a7ee3-c1a3-47d8-a889-9094ff43a007",
   "metadata": {},
   "outputs": [],
   "source": [
    "backup_data = df.copy()"
   ]
  },
  {
   "cell_type": "code",
   "execution_count": 69,
   "id": "cc5c8238-6a14-4ed3-b09a-f1217efa322e",
   "metadata": {},
   "outputs": [
    {
     "data": {
      "text/plain": [
       "sno                      object\n",
       "complaint                object\n",
       "complaint_description    object\n",
       "complaint_type           object\n",
       "recieved_date            object\n",
       "incident_date            object\n",
       "county                   object\n",
       "incident_closed_date     object\n",
       "incident_status_desc     object\n",
       "incident_zip             object\n",
       "dtype: object"
      ]
     },
     "execution_count": 69,
     "metadata": {},
     "output_type": "execute_result"
    }
   ],
   "source": [
    "df.dtypes"
   ]
  },
  {
   "cell_type": "code",
   "execution_count": 70,
   "id": "74dab2af-3bde-4a90-9fd8-c605e4d4b9a5",
   "metadata": {},
   "outputs": [],
   "source": [
    "df['recieved_date'] = pd.to_datetime(df['recieved_date'])\n",
    "df['incident_date'] = pd.to_datetime(df['incident_date'])\n",
    "df['incident_closed_date'] = pd.to_datetime(df['incident_closed_date'])"
   ]
  },
  {
   "cell_type": "code",
   "execution_count": 71,
   "id": "5ba29962-6ccc-47ce-8dd1-16f6b098144f",
   "metadata": {},
   "outputs": [
    {
     "data": {
      "text/plain": [
       "sno                              object\n",
       "complaint                        object\n",
       "complaint_description            object\n",
       "complaint_type                   object\n",
       "recieved_date            datetime64[ns]\n",
       "incident_date            datetime64[ns]\n",
       "county                           object\n",
       "incident_closed_date     datetime64[ns]\n",
       "incident_status_desc             object\n",
       "incident_zip                     object\n",
       "dtype: object"
      ]
     },
     "execution_count": 71,
     "metadata": {},
     "output_type": "execute_result"
    }
   ],
   "source": [
    "df.dtypes"
   ]
  },
  {
   "cell_type": "markdown",
   "id": "64305f4d",
   "metadata": {},
   "source": [
    "# analyze data"
   ]
  },
  {
   "cell_type": "code",
   "execution_count": 72,
   "id": "53f17b2d-8ebb-403c-ad25-52f8b041a5e0",
   "metadata": {},
   "outputs": [
    {
     "data": {
      "text/plain": [
       "county\n",
       "Baltimore City        101\n",
       "Anne Arundel           85\n",
       "Prince George's        83\n",
       "Frederick              62\n",
       "Baltimore              57\n",
       "Montgomery             35\n",
       "Cecil                  25\n",
       "Dorchester             17\n",
       "Harford                17\n",
       "Howard                 15\n",
       "Allegany               15\n",
       "Washington             14\n",
       "Charles                12\n",
       "Carroll                 9\n",
       "Wicomico                8\n",
       "Not Yet Determined      7\n",
       "Worcester               7\n",
       "St. Mary's              6\n",
       "Garrett                 5\n",
       "Caroline                3\n",
       "Queen Anne's            2\n",
       "Somerset                2\n",
       "Talbot                  1\n",
       "Kent                    1\n",
       "Statewide               1\n",
       "Name: count, dtype: int64"
      ]
     },
     "execution_count": 72,
     "metadata": {},
     "output_type": "execute_result"
    }
   ],
   "source": [
    "# For the summaries we're running, we'll limit that to just complaints received in the last year?\n",
    "year_ago_date = pd.Timestamp('2023-03-09')\n",
    "\n",
    "last_year_df = df[df[\"recieved_date\"] > year_ago_date].copy()\n",
    "last_year_df['county'].value_counts()"
   ]
  },
  {
   "cell_type": "code",
   "execution_count": 73,
   "id": "f01d1dba-8d8e-485b-9ec0-78b6a95c268f",
   "metadata": {},
   "outputs": [
    {
     "data": {
      "text/plain": [
       "complaint_type\n",
       "Air                                                                                 166\n",
       "Odor                                                                                140\n",
       "Other                                                                               121\n",
       "Fugitive Dust/Particulate Matter                                                     35\n",
       "Smoke                                                                                28\n",
       "Air, Fumes, Odor                                                                     20\n",
       "Open Burning                                                                         13\n",
       "Air, Odor                                                                            11\n",
       "Fumes                                                                                11\n",
       "Open Burning, Smoke                                                                   7\n",
       "Air, Odor, Smoke                                                                      4\n",
       "Air, Fugitive Dust/Particulate Matter                                                 4\n",
       "Odor, Open Burning, Smoke                                                             3\n",
       "Fugitive Dust/Particulate Matter, Smoke                                               3\n",
       "Air, Open Burning                                                                     3\n",
       "Air, Other                                                                            3\n",
       "Air, Smoke                                                                            2\n",
       "Air Pollutant Release                                                                 2\n",
       "Odor, Smoke                                                                           2\n",
       "Noise Complaint                                                                       2\n",
       "Asbestos Complaint                                                                    2\n",
       "Non-Tidal Wetlands/Waterway                                                           2\n",
       "Air, Odor, Open Burning                                                               1\n",
       "Air, Fumes, Smoke                                                                     1\n",
       "Air, Fumes, Odor, Smoke                                                               1\n",
       "Fumes, Smoke                                                                          1\n",
       "Fumes, Open Burning, Smoke                                                            1\n",
       "Air, Fumes, Other                                                                     1\n",
       "ARA AQCP non-regulated entity                                                         1\n",
       "Fumes, Odor, Smoke                                                                    1\n",
       "Air, Fugitive Dust/Particulate Matter, Odor                                           1\n",
       "Air, Fugitive Dust/Particulate Matter, Smoke                                          1\n",
       "Air, Asbestos Complaint                                                               1\n",
       "Air, Fugitive Dust/Particulate Matter, Other, Suspected Operation without Permit      1\n",
       "Air, Odor, Open Burning, Smoke                                                        1\n",
       "Air, Fumes                                                                            1\n",
       "Fumes, Odor, Open Burning                                                             1\n",
       "Name: count, dtype: int64"
      ]
     },
     "execution_count": 73,
     "metadata": {},
     "output_type": "execute_result"
    }
   ],
   "source": [
    "last_year_df['complaint_type'].value_counts()"
   ]
  },
  {
   "cell_type": "code",
   "execution_count": 74,
   "id": "1194ef24-6de0-49a0-8d6d-ff38f9d16793",
   "metadata": {},
   "outputs": [],
   "source": [
    "last_year_df['complaint_type'] = last_year_df['complaint_type'].str.split(', ')"
   ]
  },
  {
   "cell_type": "code",
   "execution_count": 75,
   "id": "ffaaf079-3310-4c72-88fa-831280e8abf8",
   "metadata": {},
   "outputs": [],
   "source": [
    "# Now, apply this to our full dataset.\n",
    "complaints_by_type = last_year_df.explode(\"complaint_type\")"
   ]
  },
  {
   "cell_type": "code",
   "execution_count": 76,
   "id": "77690521-ed9a-49ad-9849-d23d571e59aa",
   "metadata": {},
   "outputs": [
    {
     "data": {
      "text/plain": [
       "complaint_type\n",
       "Air                                   223\n",
       "Odor                                  186\n",
       "Other                                 126\n",
       "Smoke                                  56\n",
       "Fugitive Dust/Particulate Matter       45\n",
       "Fumes                                  39\n",
       "Open Burning                           30\n",
       "Asbestos Complaint                      3\n",
       "Air Pollutant Release                   2\n",
       "Noise Complaint                         2\n",
       "Non-Tidal Wetlands/Waterway             2\n",
       "Suspected Operation without Permit      1\n",
       "ARA AQCP non-regulated entity           1\n",
       "Name: count, dtype: int64"
      ]
     },
     "execution_count": 76,
     "metadata": {},
     "output_type": "execute_result"
    }
   ],
   "source": [
    "complaints_by_type['complaint_type'].value_counts()"
   ]
  },
  {
   "cell_type": "code",
   "execution_count": 77,
   "id": "c78f1e5a-ae2e-4e3f-aaba-eb0647e16332",
   "metadata": {},
   "outputs": [],
   "source": [
    "last_year_by_type = complaints_by_type[\"complaint_type\"].value_counts()"
   ]
  },
  {
   "cell_type": "code",
   "execution_count": 78,
   "id": "9dd0b2a4-c1a0-4bfe-b041-c263105f59b1",
   "metadata": {
    "scrolled": true
   },
   "outputs": [
    {
     "data": {
      "text/html": [
       "<div>\n",
       "<style scoped>\n",
       "    .dataframe tbody tr th:only-of-type {\n",
       "        vertical-align: middle;\n",
       "    }\n",
       "\n",
       "    .dataframe tbody tr th {\n",
       "        vertical-align: top;\n",
       "    }\n",
       "\n",
       "    .dataframe thead th {\n",
       "        text-align: right;\n",
       "    }\n",
       "</style>\n",
       "<table border=\"1\" class=\"dataframe\">\n",
       "  <thead>\n",
       "    <tr style=\"text-align: right;\">\n",
       "      <th></th>\n",
       "      <th>sno</th>\n",
       "      <th>complaint</th>\n",
       "      <th>complaint_description</th>\n",
       "      <th>complaint_type</th>\n",
       "      <th>recieved_date</th>\n",
       "      <th>incident_date</th>\n",
       "      <th>county</th>\n",
       "      <th>incident_closed_date</th>\n",
       "      <th>incident_status_desc</th>\n",
       "      <th>incident_zip</th>\n",
       "    </tr>\n",
       "  </thead>\n",
       "  <tbody>\n",
       "    <tr>\n",
       "      <th>70</th>\n",
       "      <td>71</td>\n",
       "      <td>222068</td>\n",
       "      <td>concern of air pollution from private contractor</td>\n",
       "      <td>[Other]</td>\n",
       "      <td>2024-02-05</td>\n",
       "      <td>2024-02-05</td>\n",
       "      <td>Not Yet Determined</td>\n",
       "      <td>2024-02-05</td>\n",
       "      <td>Incident Closed-Managed</td>\n",
       "      <td>NaN</td>\n",
       "    </tr>\n",
       "    <tr>\n",
       "      <th>300</th>\n",
       "      <td>301</td>\n",
       "      <td>181543</td>\n",
       "      <td>Odor inside apartment.</td>\n",
       "      <td>[Air]</td>\n",
       "      <td>2023-09-22</td>\n",
       "      <td>2023-09-21</td>\n",
       "      <td>Not Yet Determined</td>\n",
       "      <td>NaT</td>\n",
       "      <td>Incident Not Applicable to MDE</td>\n",
       "      <td>NaN</td>\n",
       "    </tr>\n",
       "    <tr>\n",
       "      <th>313</th>\n",
       "      <td>314</td>\n",
       "      <td>181510</td>\n",
       "      <td>Unknown</td>\n",
       "      <td>[Other]</td>\n",
       "      <td>2023-09-08</td>\n",
       "      <td>2023-09-08</td>\n",
       "      <td>Not Yet Determined</td>\n",
       "      <td>2023-09-22</td>\n",
       "      <td>Incident Closed - No further action</td>\n",
       "      <td>NaN</td>\n",
       "    </tr>\n",
       "    <tr>\n",
       "      <th>355</th>\n",
       "      <td>356</td>\n",
       "      <td>181349</td>\n",
       "      <td>Lead</td>\n",
       "      <td>[Other]</td>\n",
       "      <td>2023-08-07</td>\n",
       "      <td>2023-08-07</td>\n",
       "      <td>Not Yet Determined</td>\n",
       "      <td>2023-08-08</td>\n",
       "      <td>Incident Closed - No further action</td>\n",
       "      <td>NaN</td>\n",
       "    </tr>\n",
       "    <tr>\n",
       "      <th>357</th>\n",
       "      <td>358</td>\n",
       "      <td>181343</td>\n",
       "      <td>testing of fugitive matter from AC</td>\n",
       "      <td>[Other]</td>\n",
       "      <td>2023-08-07</td>\n",
       "      <td>2023-08-07</td>\n",
       "      <td>Not Yet Determined</td>\n",
       "      <td>2023-08-07</td>\n",
       "      <td>Incident Closed-Managed</td>\n",
       "      <td>NaN</td>\n",
       "    </tr>\n",
       "    <tr>\n",
       "      <th>398</th>\n",
       "      <td>399</td>\n",
       "      <td>171205</td>\n",
       "      <td>Concerned with general poor ambient air qualit...</td>\n",
       "      <td>[Air]</td>\n",
       "      <td>2023-06-28</td>\n",
       "      <td>2023-06-28</td>\n",
       "      <td>Statewide</td>\n",
       "      <td>2023-06-29</td>\n",
       "      <td>Incident Closed-Managed</td>\n",
       "      <td>NaN</td>\n",
       "    </tr>\n",
       "    <tr>\n",
       "      <th>402</th>\n",
       "      <td>403</td>\n",
       "      <td>171180</td>\n",
       "      <td>Automobile shop operating without machine.</td>\n",
       "      <td>[Other]</td>\n",
       "      <td>2023-06-26</td>\n",
       "      <td>2023-06-26</td>\n",
       "      <td>Not Yet Determined</td>\n",
       "      <td>2023-07-07</td>\n",
       "      <td>Incident Closed-Managed</td>\n",
       "      <td>NaN</td>\n",
       "    </tr>\n",
       "    <tr>\n",
       "      <th>577</th>\n",
       "      <td>578</td>\n",
       "      <td>140705</td>\n",
       "      <td>Freon Release</td>\n",
       "      <td>[Air]</td>\n",
       "      <td>2023-03-28</td>\n",
       "      <td>2023-03-28</td>\n",
       "      <td>Not Yet Determined</td>\n",
       "      <td>NaT</td>\n",
       "      <td>Referred to Outside Agency</td>\n",
       "      <td>NaN</td>\n",
       "    </tr>\n",
       "  </tbody>\n",
       "</table>\n",
       "</div>"
      ],
      "text/plain": [
       "     sno complaint                              complaint_description  \\\n",
       "70    71    222068   concern of air pollution from private contractor   \n",
       "300  301    181543                             Odor inside apartment.   \n",
       "313  314    181510                                            Unknown   \n",
       "355  356    181349                                               Lead   \n",
       "357  358    181343                 testing of fugitive matter from AC   \n",
       "398  399    171205  Concerned with general poor ambient air qualit...   \n",
       "402  403    171180         Automobile shop operating without machine.   \n",
       "577  578    140705                                      Freon Release   \n",
       "\n",
       "    complaint_type recieved_date incident_date              county  \\\n",
       "70         [Other]    2024-02-05    2024-02-05  Not Yet Determined   \n",
       "300          [Air]    2023-09-22    2023-09-21  Not Yet Determined   \n",
       "313        [Other]    2023-09-08    2023-09-08  Not Yet Determined   \n",
       "355        [Other]    2023-08-07    2023-08-07  Not Yet Determined   \n",
       "357        [Other]    2023-08-07    2023-08-07  Not Yet Determined   \n",
       "398          [Air]    2023-06-28    2023-06-28           Statewide   \n",
       "402        [Other]    2023-06-26    2023-06-26  Not Yet Determined   \n",
       "577          [Air]    2023-03-28    2023-03-28  Not Yet Determined   \n",
       "\n",
       "    incident_closed_date                 incident_status_desc incident_zip  \n",
       "70            2024-02-05              Incident Closed-Managed          NaN  \n",
       "300                  NaT       Incident Not Applicable to MDE          NaN  \n",
       "313           2023-09-22  Incident Closed - No further action          NaN  \n",
       "355           2023-08-08  Incident Closed - No further action          NaN  \n",
       "357           2023-08-07              Incident Closed-Managed          NaN  \n",
       "398           2023-06-29              Incident Closed-Managed          NaN  \n",
       "402           2023-07-07              Incident Closed-Managed          NaN  \n",
       "577                  NaT           Referred to Outside Agency          NaN  "
      ]
     },
     "execution_count": 78,
     "metadata": {},
     "output_type": "execute_result"
    }
   ],
   "source": [
    "last_year_df[last_year_df['county'].isin(['Not Yet Determined', 'Statewide'])]"
   ]
  },
  {
   "cell_type": "code",
   "execution_count": 79,
   "id": "94a06123-9887-4949-b171-c4c376c15a7b",
   "metadata": {},
   "outputs": [],
   "source": [
    "invalid_county_rows = last_year_df[last_year_df['county'].isin(['Not Yet Determined', 'Statewide'])]\n",
    "invalid_county_rows.to_csv('exported_data/invalid_counties.csv')"
   ]
  },
  {
   "cell_type": "code",
   "execution_count": 80,
   "id": "c90686a5-0579-4039-a151-e9ffb62402db",
   "metadata": {},
   "outputs": [
    {
     "data": {
      "text/plain": [
       "county\n",
       "Baltimore City     101\n",
       "Anne Arundel        85\n",
       "Prince George's     83\n",
       "Frederick           62\n",
       "Baltimore           57\n",
       "Montgomery          35\n",
       "Cecil               25\n",
       "Harford             17\n",
       "Dorchester          17\n",
       "Howard              15\n",
       "Allegany            15\n",
       "Washington          14\n",
       "Charles             12\n",
       "Carroll              9\n",
       "Wicomico             8\n",
       "Worcester            7\n",
       "St. Mary's           6\n",
       "Garrett              5\n",
       "Caroline             3\n",
       "Queen Anne's         2\n",
       "Somerset             2\n",
       "Talbot               1\n",
       "Kent                 1\n",
       "Name: count, dtype: int64"
      ]
     },
     "execution_count": 80,
     "metadata": {},
     "output_type": "execute_result"
    }
   ],
   "source": [
    "last_year_df = last_year_df[last_year_df['county'].isin(['Not Yet Determined', 'Statewide']) == False]\n",
    "last_year_df['county'].value_counts()"
   ]
  },
  {
   "cell_type": "code",
   "execution_count": 81,
   "id": "e859dc1f-20de-4dd5-930f-8873138bb3c3",
   "metadata": {},
   "outputs": [],
   "source": [
    "last_year_by_county = last_year_df[\"county\"].value_counts()"
   ]
  },
  {
   "cell_type": "code",
   "execution_count": 82,
   "id": "a7ebbfd1-6e58-4a90-91fe-62d36976ac4c",
   "metadata": {},
   "outputs": [
    {
     "data": {
      "text/plain": [
       "county\n",
       "Baltimore City     101\n",
       "Anne Arundel        85\n",
       "Prince George's     83\n",
       "Frederick           62\n",
       "Baltimore           57\n",
       "Montgomery          35\n",
       "Cecil               25\n",
       "Harford             17\n",
       "Dorchester          17\n",
       "Howard              15\n",
       "Allegany            15\n",
       "Washington          14\n",
       "Charles             12\n",
       "Carroll              9\n",
       "Wicomico             8\n",
       "Worcester            7\n",
       "St. Mary's           6\n",
       "Garrett              5\n",
       "Caroline             3\n",
       "Queen Anne's         2\n",
       "Somerset             2\n",
       "Talbot               1\n",
       "Kent                 1\n",
       "Name: count, dtype: int64"
      ]
     },
     "execution_count": 82,
     "metadata": {},
     "output_type": "execute_result"
    }
   ],
   "source": [
    "last_year_by_county"
   ]
  },
  {
   "cell_type": "markdown",
   "id": "4849e5e3",
   "metadata": {},
   "source": [
    "# export data"
   ]
  },
  {
   "cell_type": "code",
   "execution_count": 83,
   "id": "8f5099f1-6298-4c08-93a3-8ff4cd3cf643",
   "metadata": {},
   "outputs": [],
   "source": [
    "last_year_by_type.to_csv(\"exported_data/complaint_typef_frequency.csv\")\n",
    "last_year_by_county.to_csv(\"exported_data/county_frequency.csv\")"
   ]
  },
  {
   "cell_type": "code",
   "execution_count": 84,
   "id": "a378c8a5-118d-4a78-b540-be9edb767d63",
   "metadata": {},
   "outputs": [],
   "source": [
    "last_year_df.to_csv(\"exported_data/all_complaints.csv\", index=False)"
   ]
  },
  {
   "cell_type": "code",
   "execution_count": null,
   "id": "301aee18-3456-4305-8b39-31052544b69b",
   "metadata": {},
   "outputs": [],
   "source": []
  }
 ],
 "metadata": {
  "kernelspec": {
   "display_name": "Python 3 (ipykernel)",
   "language": "python",
   "name": "python3"
  },
  "language_info": {
   "codemirror_mode": {
    "name": "ipython",
    "version": 3
   },
   "file_extension": ".py",
   "mimetype": "text/x-python",
   "name": "python",
   "nbconvert_exporter": "python",
   "pygments_lexer": "ipython3",
   "version": "3.11.8"
  }
 },
 "nbformat": 4,
 "nbformat_minor": 5
}
